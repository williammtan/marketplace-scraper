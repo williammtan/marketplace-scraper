{
 "cells": [
  {
   "cell_type": "code",
   "execution_count": 1,
   "id": "0a8850c2",
   "metadata": {},
   "outputs": [],
   "source": [
    "import pandas as pd\n",
    "import numpy as np\n",
    "import matplotlib.pyplot as plt"
   ]
  },
  {
   "cell_type": "code",
   "execution_count": 4,
   "id": "c31a33d5",
   "metadata": {},
   "outputs": [
    {
     "data": {
      "text/html": [
       "<div>\n",
       "<style scoped>\n",
       "    .dataframe tbody tr th:only-of-type {\n",
       "        vertical-align: middle;\n",
       "    }\n",
       "\n",
       "    .dataframe tbody tr th {\n",
       "        vertical-align: top;\n",
       "    }\n",
       "\n",
       "    .dataframe thead th {\n",
       "        text-align: right;\n",
       "    }\n",
       "</style>\n",
       "<table border=\"1\" class=\"dataframe\">\n",
       "  <thead>\n",
       "    <tr style=\"text-align: right;\">\n",
       "      <th></th>\n",
       "      <th>id</th>\n",
       "      <th>name</th>\n",
       "      <th>category_breadcrumb</th>\n",
       "      <th>prod_url</th>\n",
       "      <th>old_price</th>\n",
       "      <th>discounted_price</th>\n",
       "      <th>discount_percent</th>\n",
       "      <th>stock</th>\n",
       "      <th>shop</th>\n",
       "      <th>image_urls</th>\n",
       "      <th>review_count</th>\n",
       "      <th>rating</th>\n",
       "      <th>sold</th>\n",
       "      <th>ref</th>\n",
       "      <th>index</th>\n",
       "    </tr>\n",
       "  </thead>\n",
       "  <tbody>\n",
       "    <tr>\n",
       "      <th>0</th>\n",
       "      <td>930519824</td>\n",
       "      <td>Ghee Numi Naturals Grass Fed Butter 200 ml</td>\n",
       "      <td>makanan-minuman/produk-susu/mentega-butter</td>\n",
       "      <td>https://www.tokopedia.com/sesaofficial/ghee-nu...</td>\n",
       "      <td>[]</td>\n",
       "      <td>[9, 9, 9, 0, 0]</td>\n",
       "      <td>0</td>\n",
       "      <td>253</td>\n",
       "      <td>6589449</td>\n",
       "      <td>[https://images.tokopedia.net/img/cache/200-sq...</td>\n",
       "      <td>254</td>\n",
       "      <td>4.9</td>\n",
       "      <td>979</td>\n",
       "      <td>device=desktop&amp;rows=200&amp;source=universal&amp;rt=4,...</td>\n",
       "      <td>NaN</td>\n",
       "    </tr>\n",
       "    <tr>\n",
       "      <th>1</th>\n",
       "      <td>1418765094</td>\n",
       "      <td>Ghee Garlic &amp; Herbs (Organic &amp; Grass Fed Ghee ...</td>\n",
       "      <td>makanan-minuman/produk-susu/mentega-butter</td>\n",
       "      <td>https://www.tokopedia.com/nourishindonesia/ghe...</td>\n",
       "      <td>[6, 3, 0, 0, 0]</td>\n",
       "      <td>[5, 6, 0, 0, 0]</td>\n",
       "      <td>11</td>\n",
       "      <td>999693</td>\n",
       "      <td>429323</td>\n",
       "      <td>[https://images.tokopedia.net/img/cache/200-sq...</td>\n",
       "      <td>377</td>\n",
       "      <td>4.9</td>\n",
       "      <td>954</td>\n",
       "      <td>device=desktop&amp;rows=200&amp;source=universal&amp;rt=4,...</td>\n",
       "      <td>NaN</td>\n",
       "    </tr>\n",
       "    <tr>\n",
       "      <th>2</th>\n",
       "      <td>678380549</td>\n",
       "      <td>Royal Krone Repack 1 Kg</td>\n",
       "      <td>makanan-minuman/produk-susu/mentega-butter</td>\n",
       "      <td>https://www.tokopedia.com/bahankuecan/royal-kr...</td>\n",
       "      <td>[]</td>\n",
       "      <td>[6, 5, 0, 0, 0]</td>\n",
       "      <td>0</td>\n",
       "      <td>107</td>\n",
       "      <td>2523167</td>\n",
       "      <td>[https://images.tokopedia.net/img/cache/200-sq...</td>\n",
       "      <td>176</td>\n",
       "      <td>4.9</td>\n",
       "      <td>408</td>\n",
       "      <td>device=desktop&amp;rows=200&amp;source=universal&amp;rt=4,...</td>\n",
       "      <td>NaN</td>\n",
       "    </tr>\n",
       "    <tr>\n",
       "      <th>3</th>\n",
       "      <td>1250582736</td>\n",
       "      <td>Anchor Butter - Unsalted 227 g</td>\n",
       "      <td>makanan-minuman/produk-susu/mentega-butter</td>\n",
       "      <td>https://www.tokopedia.com/sesaofficial/anchor-...</td>\n",
       "      <td>[3, 9, 9, 0, 0]</td>\n",
       "      <td>[2, 9, 9, 0, 0]</td>\n",
       "      <td>25</td>\n",
       "      <td>949</td>\n",
       "      <td>6589449</td>\n",
       "      <td>[https://images.tokopedia.net/img/cache/200-sq...</td>\n",
       "      <td>871</td>\n",
       "      <td>5.0</td>\n",
       "      <td>5500</td>\n",
       "      <td>device=desktop&amp;rows=200&amp;source=universal&amp;rt=4,...</td>\n",
       "      <td>NaN</td>\n",
       "    </tr>\n",
       "    <tr>\n",
       "      <th>4</th>\n",
       "      <td>512642337</td>\n",
       "      <td>Baking Mix Anchor / Baker Mix Anchor / Baker's...</td>\n",
       "      <td>makanan-minuman/produk-susu/mentega-butter</td>\n",
       "      <td>https://www.tokopedia.com/greenwoodsupplier/ba...</td>\n",
       "      <td>[]</td>\n",
       "      <td>[4, 5, 0, 0, 0]</td>\n",
       "      <td>0</td>\n",
       "      <td>86</td>\n",
       "      <td>1044751</td>\n",
       "      <td>[https://images.tokopedia.net/img/cache/200-sq...</td>\n",
       "      <td>341</td>\n",
       "      <td>4.9</td>\n",
       "      <td>1600</td>\n",
       "      <td>device=desktop&amp;rows=200&amp;source=universal&amp;rt=4,...</td>\n",
       "      <td>NaN</td>\n",
       "    </tr>\n",
       "    <tr>\n",
       "      <th>...</th>\n",
       "      <td>...</td>\n",
       "      <td>...</td>\n",
       "      <td>...</td>\n",
       "      <td>...</td>\n",
       "      <td>...</td>\n",
       "      <td>...</td>\n",
       "      <td>...</td>\n",
       "      <td>...</td>\n",
       "      <td>...</td>\n",
       "      <td>...</td>\n",
       "      <td>...</td>\n",
       "      <td>...</td>\n",
       "      <td>...</td>\n",
       "      <td>...</td>\n",
       "      <td>...</td>\n",
       "    </tr>\n",
       "    <tr>\n",
       "      <th>331629</th>\n",
       "      <td>383968281</td>\n",
       "      <td>LUWAK White Koffie 20gr x 20pcs</td>\n",
       "      <td>Makanan &amp; Minuman/Kopi/Kopi Kemasan</td>\n",
       "      <td>https://www.tokopedia.com/ryantirizkyshop/luwa...</td>\n",
       "      <td>0</td>\n",
       "      <td>23000</td>\n",
       "      <td>0</td>\n",
       "      <td>3</td>\n",
       "      <td>{'id': 2803342, 'name': 'Ryanti Shop', 'locati...</td>\n",
       "      <td>[https://ecs7-p.tokopedia.net/img/cache/250-sq...</td>\n",
       "      <td>0</td>\n",
       "      <td>0.0</td>\n",
       "      <td>1</td>\n",
       "      <td>{'from': '562051159', 'section': 'Lainnya di t...</td>\n",
       "      <td>2226684.0</td>\n",
       "    </tr>\n",
       "    <tr>\n",
       "      <th>331630</th>\n",
       "      <td>329727451</td>\n",
       "      <td>BABY HAPPY Popok Pants [M] 34</td>\n",
       "      <td>Ibu &amp; Bayi/Popok/Popok Sekali Pakai</td>\n",
       "      <td>https://www.tokopedia.com/ryantirizkyshop/baby...</td>\n",
       "      <td>0</td>\n",
       "      <td>50000</td>\n",
       "      <td>0</td>\n",
       "      <td>5</td>\n",
       "      <td>{'id': 2803342, 'name': 'Ryanti Shop', 'locati...</td>\n",
       "      <td>[https://ecs7-p.tokopedia.net/img/cache/250-sq...</td>\n",
       "      <td>0</td>\n",
       "      <td>0.0</td>\n",
       "      <td>0</td>\n",
       "      <td>{'from': '562051159', 'section': 'Lainnya di t...</td>\n",
       "      <td>2226686.0</td>\n",
       "    </tr>\n",
       "    <tr>\n",
       "      <th>331631</th>\n",
       "      <td>618652229</td>\n",
       "      <td>bebelac 3 Madu 1800gr</td>\n",
       "      <td>Ibu &amp; Bayi/Makanan &amp; Susu Bayi/Susu Bayi di At...</td>\n",
       "      <td>https://www.tokopedia.com/ryantirizkyshop/bebe...</td>\n",
       "      <td>0</td>\n",
       "      <td>265500</td>\n",
       "      <td>0</td>\n",
       "      <td>6</td>\n",
       "      <td>{'id': 2803342, 'name': 'Ryanti Shop', 'locati...</td>\n",
       "      <td>[https://ecs7-p.tokopedia.net/img/cache/250-sq...</td>\n",
       "      <td>0</td>\n",
       "      <td>0.0</td>\n",
       "      <td>0</td>\n",
       "      <td>{'from': '562051159', 'section': 'Lainnya di t...</td>\n",
       "      <td>2226691.0</td>\n",
       "    </tr>\n",
       "    <tr>\n",
       "      <th>331632</th>\n",
       "      <td>1579141204</td>\n",
       "      <td>pediasure vanila 850 gr</td>\n",
       "      <td>Ibu &amp; Bayi/Makanan &amp; Susu Bayi/Susu Bayi di At...</td>\n",
       "      <td>https://www.tokopedia.com/ryantirizkyshop/pedi...</td>\n",
       "      <td>0</td>\n",
       "      <td>290000</td>\n",
       "      <td>0</td>\n",
       "      <td>1</td>\n",
       "      <td>{'id': 2803342, 'name': 'Ryanti Shop', 'locati...</td>\n",
       "      <td>[https://ecs7-p.tokopedia.net/img/cache/250-sq...</td>\n",
       "      <td>0</td>\n",
       "      <td>0.0</td>\n",
       "      <td>0</td>\n",
       "      <td>{'from': '562051159', 'section': 'Lainnya di t...</td>\n",
       "      <td>2226693.0</td>\n",
       "    </tr>\n",
       "    <tr>\n",
       "      <th>331633</th>\n",
       "      <td>863109097</td>\n",
       "      <td>MAESTRO WIJEN SANGRAI SALAD DRESSING 100g</td>\n",
       "      <td>Makanan &amp; Minuman/Bumbu &amp; Bahan Masakan/Mayonn...</td>\n",
       "      <td>https://www.tokopedia.com/goroa/maestro-wijen-...</td>\n",
       "      <td>0</td>\n",
       "      <td>4900</td>\n",
       "      <td>0</td>\n",
       "      <td>502</td>\n",
       "      <td>{'id': 7917111, 'name': 'Goroa', 'location': '...</td>\n",
       "      <td>[https://ecs7-p.tokopedia.net/img/cache/250-sq...</td>\n",
       "      <td>16</td>\n",
       "      <td>5.0</td>\n",
       "      <td>130</td>\n",
       "      <td>{'from': '815579303', 'section': 'Lainnya di t...</td>\n",
       "      <td>2226825.0</td>\n",
       "    </tr>\n",
       "  </tbody>\n",
       "</table>\n",
       "<p>331634 rows × 15 columns</p>\n",
       "</div>"
      ],
      "text/plain": [
       "                id                                               name  \\\n",
       "0        930519824         Ghee Numi Naturals Grass Fed Butter 200 ml   \n",
       "1       1418765094  Ghee Garlic & Herbs (Organic & Grass Fed Ghee ...   \n",
       "2        678380549                            Royal Krone Repack 1 Kg   \n",
       "3       1250582736                     Anchor Butter - Unsalted 227 g   \n",
       "4        512642337  Baking Mix Anchor / Baker Mix Anchor / Baker's...   \n",
       "...            ...                                                ...   \n",
       "331629   383968281                    LUWAK White Koffie 20gr x 20pcs   \n",
       "331630   329727451                      BABY HAPPY Popok Pants [M] 34   \n",
       "331631   618652229                              bebelac 3 Madu 1800gr   \n",
       "331632  1579141204                            pediasure vanila 850 gr   \n",
       "331633   863109097          MAESTRO WIJEN SANGRAI SALAD DRESSING 100g   \n",
       "\n",
       "                                      category_breadcrumb  \\\n",
       "0              makanan-minuman/produk-susu/mentega-butter   \n",
       "1              makanan-minuman/produk-susu/mentega-butter   \n",
       "2              makanan-minuman/produk-susu/mentega-butter   \n",
       "3              makanan-minuman/produk-susu/mentega-butter   \n",
       "4              makanan-minuman/produk-susu/mentega-butter   \n",
       "...                                                   ...   \n",
       "331629                Makanan & Minuman/Kopi/Kopi Kemasan   \n",
       "331630                Ibu & Bayi/Popok/Popok Sekali Pakai   \n",
       "331631  Ibu & Bayi/Makanan & Susu Bayi/Susu Bayi di At...   \n",
       "331632  Ibu & Bayi/Makanan & Susu Bayi/Susu Bayi di At...   \n",
       "331633  Makanan & Minuman/Bumbu & Bahan Masakan/Mayonn...   \n",
       "\n",
       "                                                 prod_url        old_price  \\\n",
       "0       https://www.tokopedia.com/sesaofficial/ghee-nu...               []   \n",
       "1       https://www.tokopedia.com/nourishindonesia/ghe...  [6, 3, 0, 0, 0]   \n",
       "2       https://www.tokopedia.com/bahankuecan/royal-kr...               []   \n",
       "3       https://www.tokopedia.com/sesaofficial/anchor-...  [3, 9, 9, 0, 0]   \n",
       "4       https://www.tokopedia.com/greenwoodsupplier/ba...               []   \n",
       "...                                                   ...              ...   \n",
       "331629  https://www.tokopedia.com/ryantirizkyshop/luwa...                0   \n",
       "331630  https://www.tokopedia.com/ryantirizkyshop/baby...                0   \n",
       "331631  https://www.tokopedia.com/ryantirizkyshop/bebe...                0   \n",
       "331632  https://www.tokopedia.com/ryantirizkyshop/pedi...                0   \n",
       "331633  https://www.tokopedia.com/goroa/maestro-wijen-...                0   \n",
       "\n",
       "       discounted_price  discount_percent   stock  \\\n",
       "0       [9, 9, 9, 0, 0]                 0     253   \n",
       "1       [5, 6, 0, 0, 0]                11  999693   \n",
       "2       [6, 5, 0, 0, 0]                 0     107   \n",
       "3       [2, 9, 9, 0, 0]                25     949   \n",
       "4       [4, 5, 0, 0, 0]                 0      86   \n",
       "...                 ...               ...     ...   \n",
       "331629            23000                 0       3   \n",
       "331630            50000                 0       5   \n",
       "331631           265500                 0       6   \n",
       "331632           290000                 0       1   \n",
       "331633             4900                 0     502   \n",
       "\n",
       "                                                     shop  \\\n",
       "0                                                 6589449   \n",
       "1                                                  429323   \n",
       "2                                                 2523167   \n",
       "3                                                 6589449   \n",
       "4                                                 1044751   \n",
       "...                                                   ...   \n",
       "331629  {'id': 2803342, 'name': 'Ryanti Shop', 'locati...   \n",
       "331630  {'id': 2803342, 'name': 'Ryanti Shop', 'locati...   \n",
       "331631  {'id': 2803342, 'name': 'Ryanti Shop', 'locati...   \n",
       "331632  {'id': 2803342, 'name': 'Ryanti Shop', 'locati...   \n",
       "331633  {'id': 7917111, 'name': 'Goroa', 'location': '...   \n",
       "\n",
       "                                               image_urls  review_count  \\\n",
       "0       [https://images.tokopedia.net/img/cache/200-sq...           254   \n",
       "1       [https://images.tokopedia.net/img/cache/200-sq...           377   \n",
       "2       [https://images.tokopedia.net/img/cache/200-sq...           176   \n",
       "3       [https://images.tokopedia.net/img/cache/200-sq...           871   \n",
       "4       [https://images.tokopedia.net/img/cache/200-sq...           341   \n",
       "...                                                   ...           ...   \n",
       "331629  [https://ecs7-p.tokopedia.net/img/cache/250-sq...             0   \n",
       "331630  [https://ecs7-p.tokopedia.net/img/cache/250-sq...             0   \n",
       "331631  [https://ecs7-p.tokopedia.net/img/cache/250-sq...             0   \n",
       "331632  [https://ecs7-p.tokopedia.net/img/cache/250-sq...             0   \n",
       "331633  [https://ecs7-p.tokopedia.net/img/cache/250-sq...            16   \n",
       "\n",
       "        rating  sold                                                ref  \\\n",
       "0          4.9   979  device=desktop&rows=200&source=universal&rt=4,...   \n",
       "1          4.9   954  device=desktop&rows=200&source=universal&rt=4,...   \n",
       "2          4.9   408  device=desktop&rows=200&source=universal&rt=4,...   \n",
       "3          5.0  5500  device=desktop&rows=200&source=universal&rt=4,...   \n",
       "4          4.9  1600  device=desktop&rows=200&source=universal&rt=4,...   \n",
       "...        ...   ...                                                ...   \n",
       "331629     0.0     1  {'from': '562051159', 'section': 'Lainnya di t...   \n",
       "331630     0.0     0  {'from': '562051159', 'section': 'Lainnya di t...   \n",
       "331631     0.0     0  {'from': '562051159', 'section': 'Lainnya di t...   \n",
       "331632     0.0     0  {'from': '562051159', 'section': 'Lainnya di t...   \n",
       "331633     5.0   130  {'from': '815579303', 'section': 'Lainnya di t...   \n",
       "\n",
       "            index  \n",
       "0             NaN  \n",
       "1             NaN  \n",
       "2             NaN  \n",
       "3             NaN  \n",
       "4             NaN  \n",
       "...           ...  \n",
       "331629  2226684.0  \n",
       "331630  2226686.0  \n",
       "331631  2226691.0  \n",
       "331632  2226693.0  \n",
       "331633  2226825.0  \n",
       "\n",
       "[331634 rows x 15 columns]"
      ]
     },
     "execution_count": 4,
     "metadata": {},
     "output_type": "execute_result"
    }
   ],
   "source": [
    "df = pd.read_json('../../data/tokped/susu/products.jsonlines', lines=True)\n",
    "df"
   ]
  },
  {
   "cell_type": "code",
   "execution_count": 18,
   "id": "0a519728",
   "metadata": {
    "scrolled": true
   },
   "outputs": [
    {
     "data": {
      "text/plain": [
       "['makanan-minuman/produk-susu/mentega-butter',\n",
       " 'makanan-minuman/produk-susu/krim',\n",
       " 'makanan-minuman/produk-susu/keju',\n",
       " 'makanan-minuman/produk-susu/susu-bubuk',\n",
       " 'makanan-minuman/produk-susu/susu-lansia',\n",
       " 'makanan-minuman/produk-susu/susu-kedelai-kacang-kacangan',\n",
       " 'makanan-minuman/produk-susu/susu-kental-manis',\n",
       " 'makanan-minuman/produk-susu/susu-segar-pasteurisasi',\n",
       " 'makanan-minuman/produk-susu/yogurt',\n",
       " 'makanan-minuman/produk-susu/susu-uht']"
      ]
     },
     "execution_count": 18,
     "metadata": {},
     "output_type": "execute_result"
    }
   ],
   "source": [
    "[cat for cat in df.category_breadcrumb.unique() if '/'.join(cat.split('/')[:2]) == 'makanan-minuman/produk-susu']"
   ]
  },
  {
   "cell_type": "code",
   "execution_count": 90,
   "id": "a85b4512",
   "metadata": {},
   "outputs": [],
   "source": [
    "df_susu['sub_category'] = df_susu.apply(lambda x: '-'.join([split for split in re.split(r\" |\\-|&\", x.sub_category.lower()) if split != '']), axis=1)"
   ]
  },
  {
   "cell_type": "code",
   "execution_count": 21,
   "id": "d2cbf5bb",
   "metadata": {},
   "outputs": [],
   "source": [
    "df_susu = df[df.apply(lambda x: '/'.join(x.category_breadcrumb.split('/')[:2]) == 'Makanan & Minuman/Produk Susu' or '/'.join(x.category_breadcrumb.split('/')[:2]) == 'makanan-minuman/produk-susu', axis=1)]"
   ]
  },
  {
   "cell_type": "code",
   "execution_count": 47,
   "id": "8eb0237a",
   "metadata": {},
   "outputs": [],
   "source": [
    "df_susu = df_susu.reset_index()"
   ]
  },
  {
   "cell_type": "code",
   "execution_count": 86,
   "id": "73e0e604",
   "metadata": {},
   "outputs": [],
   "source": [
    "df_susu['sub_category'] = df_susu.apply(lambda x: x.category_breadcrumb.split('/')[-1], axis=1)"
   ]
  },
  {
   "cell_type": "code",
   "execution_count": 84,
   "id": "837020b7",
   "metadata": {},
   "outputs": [],
   "source": [
    "df_susu['sub_category'] = df_susu.apply(lambda x: '-'.join([split for split in re.split(r\" |\\-|&\", x.sub_category.lower()) if split != '']), axis=1).value_counts()"
   ]
  },
  {
   "cell_type": "code",
   "execution_count": 60,
   "id": "d4184b8b",
   "metadata": {},
   "outputs": [],
   "source": [
    "df_susu['discounted_price'] = df_susu.apply(lambda x: int(''.join(x.discounted_price)) if type(x.discounted_price) == list else x.discounted_price, axis=1)"
   ]
  },
  {
   "cell_type": "code",
   "execution_count": 75,
   "id": "2c373dfd",
   "metadata": {},
   "outputs": [],
   "source": [
    "df_susu['old_price'] = df_susu.apply(lambda x: int(''.join(x.old_price) or 0) if type(x.old_price) == list else x.old_price, axis=1)"
   ]
  },
  {
   "cell_type": "code",
   "execution_count": 95,
   "id": "5ebbd078",
   "metadata": {},
   "outputs": [],
   "source": [
    "df_susu = df_susu.drop(columns=['level_0', 'index'])"
   ]
  },
  {
   "cell_type": "code",
   "execution_count": 138,
   "id": "da9eed27",
   "metadata": {},
   "outputs": [
    {
     "name": "stdout",
     "output_type": "stream",
     "text": [
      "mentega-butter: 20183 products\n",
      "sold: 198487 products\n",
      "(array([13069,  1932,   989,   610,   437,   368,   265,   242,   188,\n",
      "         140]), array([ 0. ,  9.9, 19.8, 29.7, 39.6, 49.5, 59.4, 69.3, 79.2, 89.1, 99. ]))\n"
     ]
    },
    {
     "data": {
      "image/png": "[encoded data removed]",
      "text/plain": [
       "<Figure size 432x288 with 1 Axes>"
      ]
     },
     "metadata": {
      "needs_background": "light"
     },
     "output_type": "display_data"
    },
    {
     "name": "stdout",
     "output_type": "stream",
     "text": [
      "krim: 5597 products\n",
      "sold: 54390 products\n",
      "(array([3480,  485,  265,  179,  120,   95,   84,   59,   64,   41]), array([ 0. ,  9.9, 19.8, 29.7, 39.6, 49.5, 59.4, 69.3, 79.2, 89.1, 99. ]))\n"
     ]
    },
    {
     "data": {
      "image/png": "[encoded data removed]",
      "text/plain": [
       "<Figure size 432x288 with 1 Axes>"
      ]
     },
     "metadata": {
      "needs_background": "light"
     },
     "output_type": "display_data"
    },
    {
     "name": "stdout",
     "output_type": "stream",
     "text": [
      "keju: 22773 products\n",
      "sold: 199058 products\n",
      "(array([15676,  2122,  1031,   582,   426,   326,   272,   200,   171,\n",
      "         143]), array([ 0. ,  9.9, 19.8, 29.7, 39.6, 49.5, 59.4, 69.3, 79.2, 89.1, 99. ]))\n"
     ]
    },
    {
     "data": {
      "image/png": "[encoded data removed]",
      "text/plain": [
       "<Figure size 432x288 with 1 Axes>"
      ]
     },
     "metadata": {
      "needs_background": "light"
     },
     "output_type": "display_data"
    },
    {
     "name": "stdout",
     "output_type": "stream",
     "text": [
      "susu-bubuk: 33279 products\n",
      "sold: 289347 products\n",
      "(array([22457,  2962,  1404,   934,   646,   506,   390,   293,   253,\n",
      "         242]), array([ 0. ,  9.9, 19.8, 29.7, 39.6, 49.5, 59.4, 69.3, 79.2, 89.1, 99. ]))\n"
     ]
    },
    {
     "data": {
      "image/png": "[encoded data removed]",
      "text/plain": [
       "<Figure size 432x288 with 1 Axes>"
      ]
     },
     "metadata": {
      "needs_background": "light"
     },
     "output_type": "display_data"
    },
    {
     "name": "stdout",
     "output_type": "stream",
     "text": [
      "susu-lansia: 2268 products\n",
      "sold: 16446 products\n",
      "(array([1665,  167,   86,   53,   43,   26,   20,   15,   11,   13]), array([ 0. ,  9.9, 19.8, 29.7, 39.6, 49.5, 59.4, 69.3, 79.2, 89.1, 99. ]))\n"
     ]
    },
    {
     "data": {
      "image/png": "[encoded data removed]",
      "text/plain": [
       "<Figure size 432x288 with 1 Axes>"
      ]
     },
     "metadata": {
      "needs_background": "light"
     },
     "output_type": "display_data"
    },
    {
     "name": "stdout",
     "output_type": "stream",
     "text": [
      "susu-kedelai-kacang-kacangan: 9266 products\n",
      "sold: 83826 products\n",
      "(array([6250,  900,  403,  243,  177,  146,  108,  103,   70,   66]), array([ 0. ,  9.9, 19.8, 29.7, 39.6, 49.5, 59.4, 69.3, 79.2, 89.1, 99. ]))\n"
     ]
    },
    {
     "data": {
      "image/png": "[encoded data removed]",
      "text/plain": [
       "<Figure size 432x288 with 1 Axes>"
      ]
     },
     "metadata": {
      "needs_background": "light"
     },
     "output_type": "display_data"
    },
    {
     "name": "stdout",
     "output_type": "stream",
     "text": [
      "susu-kental-manis: 8004 products\n",
      "sold: 70717 products\n",
      "(array([5546,  753,  365,  215,  168,  111,   77,   72,   63,   59]), array([ 0. ,  9.9, 19.8, 29.7, 39.6, 49.5, 59.4, 69.3, 79.2, 89.1, 99. ]))\n"
     ]
    },
    {
     "data": {
      "image/png": "[encoded data removed]",
      "text/plain": [
       "<Figure size 432x288 with 1 Axes>"
      ]
     },
     "metadata": {
      "needs_background": "light"
     },
     "output_type": "display_data"
    },
    {
     "name": "stdout",
     "output_type": "stream",
     "text": [
      "susu-segar-pasteurisasi: 8215 products\n",
      "sold: 82184 products\n",
      "(array([4785,  744,  413,  284,  182,  138,  115,   87,   81,   75]), array([ 0. ,  9.9, 19.8, 29.7, 39.6, 49.5, 59.4, 69.3, 79.2, 89.1, 99. ]))\n"
     ]
    },
    {
     "data": {
      "image/png": "[encoded data removed]",
      "text/plain": [
       "<Figure size 432x288 with 1 Axes>"
      ]
     },
     "metadata": {
      "needs_background": "light"
     },
     "output_type": "display_data"
    },
    {
     "name": "stdout",
     "output_type": "stream",
     "text": [
      "yogurt: 7043 products\n",
      "sold: 58500 products\n",
      "(array([4939,  560,  305,  183,  121,   89,   84,   69,   57,   39]), array([ 0. ,  9.9, 19.8, 29.7, 39.6, 49.5, 59.4, 69.3, 79.2, 89.1, 99. ]))\n"
     ]
    },
    {
     "data": {
      "image/png": "[encoded data removed]",
      "text/plain": [
       "<Figure size 432x288 with 1 Axes>"
      ]
     },
     "metadata": {
      "needs_background": "light"
     },
     "output_type": "display_data"
    },
    {
     "name": "stdout",
     "output_type": "stream",
     "text": [
      "susu-uht: 18524 products\n",
      "sold: 201788 products\n",
      "(array([11144,  1813,  1024,   647,   496,   350,   288,   221,   196,\n",
      "         186]), array([ 0. ,  9.9, 19.8, 29.7, 39.6, 49.5, 59.4, 69.3, 79.2, 89.1, 99. ]))\n"
     ]
    },
    {
     "data": {
      "image/png": "[encoded data removed]",
      "text/plain": [
       "<Figure size 432x288 with 1 Axes>"
      ]
     },
     "metadata": {
      "needs_background": "light"
     },
     "output_type": "display_data"
    }
   ],
   "source": [
    "for sub_cat in df_susu.sub_category.unique():\n",
    "    prods = df_susu[df_susu.sub_category == sub_cat]\n",
    "    print(f'{sub_cat}: {len(prods)} products')\n",
    "    sold = prods.sold.values\n",
    "    sold = sold[sold < 100]\n",
    "    print(f'sold: {np.sum(sold)} products')\n",
    "    hist = np.histogram(sold)\n",
    "    print(hist)\n",
    "    plt.hist(hist)\n",
    "    plt.show()"
   ]
  },
  {
   "cell_type": "code",
   "execution_count": 141,
   "id": "86f67f30",
   "metadata": {},
   "outputs": [],
   "source": [
    "df_susu['shop'] = df_susu.apply(lambda x: x.shop['id'] if type(x.shop) == dict else x.shop, axis=1)"
   ]
  },
  {
   "cell_type": "code",
   "execution_count": 143,
   "id": "9125f4c5",
   "metadata": {},
   "outputs": [],
   "source": [
    "df_susu.to_json('../../data/tokped/susu/products.json')"
   ]
  },
  {
   "cell_type": "code",
   "execution_count": 2,
   "id": "fa602b63",
   "metadata": {},
   "outputs": [],
   "source": [
    "df = pd.read_json('../../data/tokped/susu/products.json')"
   ]
  },
  {
   "cell_type": "code",
   "execution_count": 11,
   "id": "aac3ea96",
   "metadata": {},
   "outputs": [],
   "source": [
    "test_df = pd.read_json('../../data/tokped/susu/similar2.jsonlines', chunksize=10000, lines=True)"
   ]
  },
  {
   "cell_type": "code",
   "execution_count": 9,
   "id": "036a6a50",
   "metadata": {},
   "outputs": [
    {
     "data": {
      "text/plain": [
       "222.3606"
      ]
     },
     "execution_count": 9,
     "metadata": {},
     "output_type": "execute_result"
    }
   ],
   "source": [
    "2223606 / 10000"
   ]
  },
  {
   "cell_type": "code",
   "execution_count": 12,
   "id": "7a5ad7c7",
   "metadata": {},
   "outputs": [
    {
     "name": "stderr",
     "output_type": "stream",
     "text": [
      "100%|██████████| 223/223 [00:24<00:00,  9.17it/s]\n"
     ]
    }
   ],
   "source": [
    "from tqdm import tqdm\n",
    "similar_df = pd.concat([df for df in tqdm(test_df, total=223)])"
   ]
  },
  {
   "cell_type": "code",
   "execution_count": 16,
   "id": "8c21f57f",
   "metadata": {
    "scrolled": true
   },
   "outputs": [],
   "source": [
    "df = pd.concat([df, similar_df.drop_duplicates(subset='id')])"
   ]
  },
  {
   "cell_type": "code",
   "execution_count": 20,
   "id": "313ccaad",
   "metadata": {},
   "outputs": [],
   "source": [
    "df = df.reset_index(drop=True)"
   ]
  },
  {
   "cell_type": "code",
   "execution_count": 22,
   "id": "15508a4f",
   "metadata": {},
   "outputs": [],
   "source": [
    "df.to_json('../../data/tokped/susu/products.json')"
   ]
  }
 ],
 "metadata": {
  "kernelspec": {
   "display_name": "food-scraping",
   "language": "python",
   "name": "food-scraping"
  },
  "language_info": {
   "codemirror_mode": {
    "name": "ipython",
    "version": 3
   },
   "file_extension": ".py",
   "mimetype": "text/x-python",
   "name": "python",
   "nbconvert_exporter": "python",
   "pygments_lexer": "ipython3",
   "version": "3.9.4"
  }
 },
 "nbformat": 4,
 "nbformat_minor": 5
}
